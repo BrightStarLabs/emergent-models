{
 "cells": [
  {
   "cell_type": "code",
   "execution_count": 8,
   "id": "a27a5aba",
   "metadata": {},
   "outputs": [],
   "source": [
    "from emergent_models.core.state import StateModel\n",
    "from emergent_models.rules.sanitization import lut_idx\n",
    "from emergent_models.core.space_model import Tape1D\n",
    "from emergent_models.encoders.em43 import Em43Encoder\n",
    "from emergent_models.simulation.simulator import Simulator\n",
    "from emergent_models.training import (AbsoluteDifferenceFitness, Trainer,\n",
    "                                      ComplexityRewardFitness,\n",
    "                    SparsityPenalizedFitness, GAOptimizer)\n",
    "from emergent_models.training import TqdmMonitor, DetailedMonitor, CombinedMonitor\n",
    "from tqdm.notebook import tqdm\n",
    "import numpy as np\n"
   ]
  },
  {
   "cell_type": "code",
   "execution_count": 9,
   "id": "99fd5184",
   "metadata": {},
   "outputs": [
    {
     "name": "stdout",
     "output_type": "stream",
     "text": [
      "🔬 Setting up investigation...\n",
      "🚀 Pre-allocated evaluation buffers: pop_size=500, table_size=64, prog_len=10\n",
      "✅ Setup complete!\n"
     ]
    }
   ],
   "source": [
    "\n",
    "print(\"🔬 Setting up investigation...\")\n",
    "\n",
    "# ═══════════════════ HYPERPARAMETERS ═══════════════════\n",
    "POP_SIZE      = 500\n",
    "N_GENERATIONS = 300\n",
    "ELITE_FRAC    = 0.1\n",
    "TOURNEY_K     = 3\n",
    "P_MUT_RULE    = 0.03\n",
    "P_MUT_PROG    = 0.08\n",
    "L_PROG        = 10\n",
    "LAMBDA_P      = 0.01\n",
    "EPS_RANDOM_IMMIGRANTS = 0.2\n",
    "N_COMPLEX_TELEMETRY   = 30\n",
    "INPUT_SET     = np.arange(1, 31, dtype=np.int64)\n",
    "TARGET_OUT    = 2 * INPUT_SET\n",
    "WINDOW        = 200\n",
    "MAX_STEPS     = 800\n",
    "HALT_THRESH   = 0.50\n",
    "CHECK_EVERY   = 50\n",
    "\n",
    "\n",
    "# 1. Domain setup\n",
    "_IMMUTABLE = {\n",
    "    lut_idx(0, 0, 0): 0,  # Empty space stays empty\n",
    "    lut_idx(0, 2, 0): 2,  # Red beacon propagation\n",
    "    lut_idx(0, 0, 2): 0,  # Red beacon boundary\n",
    "    lut_idx(2, 0, 0): 0,  # Red beacon boundary  \n",
    "    lut_idx(0, 3, 3): 3,  # Blue boundary behavior\n",
    "    lut_idx(3, 3, 0): 3,  # Blue boundary behavior\n",
    "    lut_idx(0, 0, 3): 0,  # Blue boundary behavior\n",
    "    lut_idx(3, 0, 0): 0,  # Blue boundary behavior\n",
    "}\n",
    "state = StateModel([0,1,2,3], immutable=_IMMUTABLE)\n",
    "space = Tape1D(length=WINDOW, radius=1)\n",
    "encoder = Em43Encoder(state, space)\n",
    "\n",
    "\n",
    "# 2. Simulation\n",
    "sim = Simulator(\n",
    "    state=state, \n",
    "    space=space, \n",
    "    max_steps=MAX_STEPS,                                    # MAX_STEPS\n",
    "    halt_thresh=HALT_THRESH                                 # HALT_THRESH\n",
    ")\n",
    "\n",
    "# Usage\n",
    "base_fitness = AbsoluteDifferenceFitness(continuous=True)\n",
    "\n",
    "fitness = ComplexityRewardFitness(\n",
    "    base_fitness, \n",
    "    complexity_bonus=0.05\n",
    ")\n",
    "\n",
    "\n",
    "# Combine tqdm with detailed logging\n",
    "tqdm_monitor = TqdmMonitor(N_GENERATIONS)\n",
    "detailed_monitor = DetailedMonitor(log_every=10, detailed_every=30)\n",
    "combined = CombinedMonitor(tqdm_monitor, detailed_monitor)\n",
    "\n",
    "# 4. Optimizer with all GA parameters\n",
    "optim = GAOptimizer(\n",
    "    pop_size=POP_SIZE,                                      # POP_SIZE\n",
    "    state=state,\n",
    "    prog_len=L_PROG,                                        # L_PROG\n",
    "    mutation_rate=P_MUT_RULE,                               # P_MUT_RULE\n",
    "    prog_mutation_rate=P_MUT_PROG,                          # P_MUT_PROG\n",
    "    elite_fraction=ELITE_FRAC,                              # ELITE_FRAC\n",
    "    tournament_size=TOURNEY_K,                              # TOURNEY_K\n",
    "    random_immigrant_rate=EPS_RANDOM_IMMIGRANTS,            # EPS_RANDOM_IMMIGRANTS\n",
    "    prog_sparsity=0.3\n",
    ")\n",
    "\n",
    "# 3. Training\n",
    "trainer = Trainer(encoder, sim, fitness, optim, combined)\n",
    "\n",
    "\n",
    "\n",
    "print(\"✅ Setup complete!\")\n"
   ]
  },
  {
   "cell_type": "code",
   "execution_count": 10,
   "id": "b32f542e",
   "metadata": {},
   "outputs": [
    {
     "name": "stdout",
     "output_type": "stream",
     "text": [
      "🚀 Starting training with tqdm progress bar...\n",
      "(500, 1) (500, 1)\n"
     ]
    }
   ],
   "source": [
    "print(\"🚀 Starting training with tqdm progress bar...\")\n",
    "inputs = np.random.randint(1, 30, size=POP_SIZE).reshape(-1, 1)\n",
    "targets = 2 * inputs\n",
    "print(inputs.shape, targets.shape)\n"
   ]
  },
  {
   "cell_type": "markdown",
   "id": "5e711565",
   "metadata": {},
   "source": [
    "####\n",
    "# Preparing Initial State from Input Data\n",
    "###\n",
    "\n",
    "input data dims: batch_size x single_inp_dim (B, D1, D2, ...)\n",
    "Let's focus on 1-D inputs for now.\n",
    "then input data dims: batch_size x single_inp_dim (B, D1)\n",
    "\n",
    "program dim for 1-D tape: population_size x programme_length (P, L)\n",
    "Tape dims: population_size x tape_length (P, T) where T > D1 + L + offset\n",
    "\n",
    "\n",
    "Ideally, the encoded training data should have dims: (B, P, T)\n",
    "For simplicity let's make batch is implicitly the population size.\n",
    "so, the training input should have dims: (P, T)\n",
    "\n"
   ]
  },
  {
   "cell_type": "code",
   "execution_count": 11,
   "id": "38790884",
   "metadata": {},
   "outputs": [
    {
     "data": {
      "text/plain": [
       "[Genome(rule_size=64, prog_length=10, fitness=0.0000),\n",
       " Genome(rule_size=64, prog_length=10, fitness=0.0000),\n",
       " Genome(rule_size=64, prog_length=10, fitness=0.0000)]"
      ]
     },
     "execution_count": 11,
     "metadata": {},
     "output_type": "execute_result"
    }
   ],
   "source": [
    "population = trainer.optimizer.ask()\n",
    "population[:3]"
   ]
  },
  {
   "cell_type": "code",
   "execution_count": 12,
   "id": "ddefc9b6",
   "metadata": {},
   "outputs": [
    {
     "data": {
      "text/plain": [
       "array([2, 0, 0, 0, 0, 2, 0, 1, 0, 0], dtype=uint8)"
      ]
     },
     "execution_count": 12,
     "metadata": {},
     "output_type": "execute_result"
    }
   ],
   "source": [
    "population[0].programme.code"
   ]
  },
  {
   "cell_type": "code",
   "execution_count": 13,
   "id": "646b70f1",
   "metadata": {},
   "outputs": [],
   "source": [
    "\n",
    "def _extract_population_data_fast(genomes) -> tuple[np.ndarray, np.ndarray]:\n",
    "    \"\"\"\n",
    "    Fast extraction of population data into pre-allocated buffers.\n",
    "\n",
    "    This method optimizes the data extraction bottleneck by minimizing\n",
    "    Python loops and using vectorized operations where possible.\n",
    "    \"\"\"\n",
    "    \n",
    "    prog_len = L_PROG\n",
    "\n",
    "    # Determine rule table size (assumes 4-state, 3-neighborhood = 64 entries)\n",
    "    n_states = state.n_states\n",
    "    table_size = n_states ** 3\n",
    "    pop_size = len(genomes)\n",
    "    _rule_buffer = np.zeros((pop_size, table_size), dtype=np.uint8)\n",
    "    _prog_buffer = np.zeros((pop_size, prog_len), dtype=np.uint8)\n",
    "    # Extract rule tables and programmes in optimized loop\n",
    "    for i in range(pop_size):\n",
    "        # Direct array assignment (faster than individual element access)\n",
    "        np.copyto(_rule_buffer[i], genomes[i].rule.table)\n",
    "        np.copyto(_prog_buffer[i], genomes[i].programme.code)\n",
    "    return _rule_buffer, _prog_buffer\n",
    "\n",
    "def _lut_idx(left, center, right):\n",
    "    return (left << 4) | (center << 2) | right\n",
    "\n",
    "def step_1d(tape, rule_table):\n",
    "    length = len(tape)\n",
    "    next_tape = np.zeros(length, dtype=np.uint8)\n",
    "    \n",
    "    # Boundary cells stay 0\n",
    "    next_tape[0] = 0\n",
    "    next_tape[length-1] = 0\n",
    "    \n",
    "    # Apply rules to interior cells\n",
    "    for x in range(1, length - 1):\n",
    "        left = tape[x - 1]\n",
    "        center = tape[x]\n",
    "        right = tape[x + 1]\n",
    "        \n",
    "        # Lookup table index\n",
    "        idx = (left << 4) | (center << 2) | right\n",
    "        if idx < len(rule_table):\n",
    "            next_tape[x] = rule_table[idx]\n",
    "    return next_tape"
   ]
  },
  {
   "cell_type": "code",
   "execution_count": 14,
   "id": "c8236a07",
   "metadata": {},
   "outputs": [],
   "source": [
    "rules, progs = _extract_population_data_fast(population)"
   ]
  },
  {
   "cell_type": "code",
   "execution_count": 15,
   "id": "ac446988",
   "metadata": {},
   "outputs": [
    {
     "data": {
      "text/plain": [
       "(500, 1)"
      ]
     },
     "execution_count": 15,
     "metadata": {},
     "output_type": "execute_result"
    }
   ],
   "source": [
    "inputs.shape"
   ]
  },
  {
   "cell_type": "code",
   "execution_count": 16,
   "id": "280076e0",
   "metadata": {},
   "outputs": [],
   "source": [
    "# Encode 1D inputs along with programmes. P x T: population size x tape length\n",
    "encoded_data = encoder.encode_population(progs, inputs)"
   ]
  },
  {
   "cell_type": "code",
   "execution_count": 17,
   "id": "643bfba0",
   "metadata": {},
   "outputs": [
    {
     "data": {
      "text/plain": [
       "(500, 200)"
      ]
     },
     "execution_count": 17,
     "metadata": {},
     "output_type": "execute_result"
    }
   ],
   "source": [
    "encoded_data.shape"
   ]
  },
  {
   "cell_type": "code",
   "execution_count": 18,
   "id": "74cb6ba8",
   "metadata": {},
   "outputs": [
    {
     "data": {
      "text/plain": [
       "array([[13],\n",
       "       [10],\n",
       "       [16],\n",
       "       [15]])"
      ]
     },
     "execution_count": 18,
     "metadata": {},
     "output_type": "execute_result"
    }
   ],
   "source": [
    "inputs[:4]"
   ]
  },
  {
   "cell_type": "code",
   "execution_count": 19,
   "id": "cb455eb3",
   "metadata": {},
   "outputs": [],
   "source": [
    "# Check if the decoding works\n",
    "decoded_data = encoder.decode_population(encoded_data, L_PROG)"
   ]
  },
  {
   "cell_type": "code",
   "execution_count": 20,
   "id": "a3556026",
   "metadata": {},
   "outputs": [
    {
     "data": {
      "text/plain": [
       "array([[13],\n",
       "       [10],\n",
       "       [16],\n",
       "       [15]], dtype=int32)"
      ]
     },
     "execution_count": 20,
     "metadata": {},
     "output_type": "execute_result"
    }
   ],
   "source": [
    "decoded_data[:4]"
   ]
  },
  {
   "cell_type": "code",
   "execution_count": 21,
   "id": "70ce1bd7",
   "metadata": {},
   "outputs": [],
   "source": [
    "final_state = sim.run_batch(encoded_data, rules)\n"
   ]
  },
  {
   "cell_type": "code",
   "execution_count": 22,
   "id": "3090840c",
   "metadata": {},
   "outputs": [
    {
     "data": {
      "text/plain": [
       "array([13], dtype=int32)"
      ]
     },
     "execution_count": 22,
     "metadata": {},
     "output_type": "execute_result"
    }
   ],
   "source": [
    "final_decoded_data = encoder.decode_population(final_state, L_PROG)\n",
    "final_decoded_data[0]"
   ]
  },
  {
   "cell_type": "markdown",
   "id": "3e0a9b7b",
   "metadata": {},
   "source": [
    "Let's take a look inside how the simulator works:"
   ]
  },
  {
   "cell_type": "code",
   "execution_count": 23,
   "id": "cf643cf2",
   "metadata": {},
   "outputs": [
    {
     "name": "stdout",
     "output_type": "stream",
     "text": [
      "Input:  [13]\n",
      "INITIAL: Encoded tape state:  20000201003300000000000000200000000000000000000000000000000000000000000000000000000000000000000000000000000000000000000000000000000000000000000000000000000000000000000000000000000000000000000000000000\n",
      "Rule set applied:  [0 1 0 0 3 3 3 1 2 0 2 0 1 0 1 3 0 3 2 3 0 3 0 2 1 1 1 0 3 2 1 1 0 3 2 0 3\n",
      " 2 2 3 3 1 1 3 1 0 1 0 0 2 1 3 0 1 2 0 3 3 0 0 3 3 3 0]\n",
      "STEP:  1\t Encoded tape state:  00000233003300000000000000200000000000000000000000000000000000000000000000000000000000000000000000000000000000000000000000000000000000000000000000000000000000000000000000000000000000000000000000000000\n",
      "STEP:  1\t Interim decoded state:  13\n",
      "Blue count (3):4\n",
      "live count (non-zero):6\n",
      "blue fraction (blue/live):0.667 \n",
      "HALTED\n"
     ]
    }
   ],
   "source": [
    "\n",
    "batch_idx = 0\n",
    "single_input = inputs[batch_idx]\n",
    "single_tape = encoded_data[batch_idx]\n",
    "print(\"Input: \",single_input)\n",
    "print(\"INITIAL: Encoded tape state: \", \"\".join(map(str, single_tape)))\n",
    "print(\"Rule set applied: \", rules[batch_idx])\n",
    "for step in range(10):\n",
    "    single_tape = step_1d(single_tape, rules[batch_idx])\n",
    "    print(f\"STEP: {step+1:2d}\\t Encoded tape state: \", \"\".join(map(str, single_tape)))\n",
    "    print(f\"STEP: {step+1:2d}\\t Interim decoded state: \", encoder.decode(single_tape, L_PROG))\n",
    "    if sim._check_halt(single_tape):\n",
    "        live_count = np.count_nonzero(single_tape)\n",
    "        if live_count == 0:\n",
    "            print(\"HALTED (no live cells)\")\n",
    "        \n",
    "        blue_count = np.count_nonzero(single_tape == 3)\n",
    "        blue_fraction = blue_count / live_count\n",
    "        print(f\"Blue count (3):{blue_count}\\nlive count (non-zero):{live_count}\\nblue fraction (blue/live):{blue_fraction:.3f} \")\n",
    "        print(\"HALTED\")\n",
    "        break"
   ]
  },
  {
   "cell_type": "code",
   "execution_count": 24,
   "id": "a28142f6",
   "metadata": {},
   "outputs": [
    {
     "data": {
      "text/plain": [
       "np.uint8(3)"
      ]
     },
     "execution_count": 24,
     "metadata": {},
     "output_type": "execute_result"
    }
   ],
   "source": [
    "idx = _lut_idx(2, 1, 0)\n",
    "rules[batch_idx][idx]"
   ]
  },
  {
   "cell_type": "code",
   "execution_count": 25,
   "id": "d46feaaa",
   "metadata": {},
   "outputs": [],
   "source": [
    "from typing import Optional\n",
    "from emergent_models.visualization.progression import ProgressionVisualizer\n",
    "from emergent_models.visualization.tape import TapeVisualizer\n",
    "from matplotlib import pyplot as plt"
   ]
  },
  {
   "cell_type": "code",
   "execution_count": 26,
   "id": "780130ee",
   "metadata": {},
   "outputs": [],
   "source": [
    "\n",
    "# Set up matplotlib for Jupyter\n",
    "%matplotlib inline\n",
    "plt.rcParams['figure.figsize'] = (12, 8)\n",
    "\n",
    "def debug_single_genome_evolution(programme: np.ndarray, \n",
    "                                 input_val: int,\n",
    "                                 rule_table: np.ndarray,\n",
    "                                 max_steps: int = 20,\n",
    "                                 halt_thresh: float = 0.5,\n",
    "                                 window_size: int = 50,\n",
    "                                 zoom_range: Optional[tuple] = None,\n",
    "                                 show_step_by_step: bool = True):\n",
    "    \"\"\"\n",
    "    Debug single genome CA evolution with step-by-step visualization.\n",
    "    \n",
    "    Parameters\n",
    "    ----------\n",
    "    programme : np.ndarray\n",
    "        Programme array (e.g., [1, 2, 1])\n",
    "    input_val : int\n",
    "        Input value to encode\n",
    "    rule_table : np.ndarray\n",
    "        64-element rule lookup table\n",
    "    max_steps : int, default=20\n",
    "        Maximum simulation steps\n",
    "    halt_thresh : float, default=0.5\n",
    "        Halting threshold (fraction of blue cells)\n",
    "    window_size : int, default=50\n",
    "        CA tape window size\n",
    "    zoom_range : tuple, optional\n",
    "        (start, end) positions to focus on\n",
    "    show_step_by_step : bool, default=True\n",
    "        Whether to show individual step visualizations\n",
    "    \"\"\"\n",
    "    \n",
    "    print(\"🔬 CA Evolution Debugger\")\n",
    "    print(\"=\" * 50)\n",
    "    \n",
    "    state = StateModel([0,1,2,3], immutable=_IMMUTABLE)\n",
    "    space = Tape1D(window_size, radius=1)\n",
    "    encoder = Em43Encoder(state, space)\n",
    "    simulator = Simulator(state=state, space=space, max_steps=max_steps, halt_thresh=halt_thresh)\n",
    "    \n",
    "    # Create visualizers\n",
    "    tape_viz = TapeVisualizer(state, backend=\"matplotlib\")\n",
    "    prog_viz = ProgressionVisualizer(state, backend=\"matplotlib\")\n",
    "    \n",
    "    print(f\"📝 Programme: {programme}\")\n",
    "    print(f\"📥 Input: {input_val}\")\n",
    "    print(f\"🎯 Rule table (first 10): {rule_table[:10]}...\")\n",
    "    print(f\"⏱️  Max steps: {max_steps}\")\n",
    "    print(f\"🛑 Halt threshold: {halt_thresh}\")\n",
    "    print()\n",
    "    \n",
    "    # Encode initial tape\n",
    "    initial_tape = encoder.encode(programme, input_val)\n",
    "    print(f\"🎬 Initial tape (first 20 cells): {initial_tape[:20]}\")\n",
    "    \n",
    "    # Calculate expected positions\n",
    "    prog_len = len(programme)\n",
    "    separator_pos = prog_len + 2\n",
    "    beacon_pos = prog_len + 2 + input_val + 1\n",
    "    print(f\"📍 Programme: [0:{prog_len}], Separator: [{prog_len}:{separator_pos}], Beacon: {beacon_pos}\")\n",
    "    print()\n",
    "    \n",
    "    # Run step-by-step simulation\n",
    "    evolution_history = []\n",
    "    current_tape = initial_tape.copy()\n",
    "    evolution_history.append(current_tape.copy())\n",
    "    \n",
    "    halted = False\n",
    "    halt_step = None\n",
    "    \n",
    "    print(\"🚀 Starting simulation...\")\n",
    "    for step in range(max_steps):\n",
    "        # Apply one CA step\n",
    "        next_tape = simulator._step_kernel(current_tape, rule_table)\n",
    "        evolution_history.append(next_tape.copy())\n",
    "        \n",
    "        # Check halting condition\n",
    "        blue_count = np.count_nonzero(next_tape == 3)\n",
    "        live_count = np.count_nonzero(next_tape)\n",
    "        \n",
    "        if live_count > 0:\n",
    "            blue_fraction = blue_count / live_count\n",
    "            print(f\"Step {step+1:2d}: Live={live_count:2d}, Blue={blue_count:2d}, Fraction={blue_fraction:.3f}\", end=\"\")\n",
    "            \n",
    "            if blue_fraction >= halt_thresh:\n",
    "                print(\" 🛑 HALTED!\")\n",
    "                halted = True\n",
    "                halt_step = step + 1\n",
    "                break\n",
    "            else:\n",
    "                print()\n",
    "        else:\n",
    "            print(f\"Step {step+1:2d}: All cells dead ☠️\")\n",
    "            break\n",
    "        \n",
    "        current_tape = next_tape\n",
    "    \n",
    "    print()\n",
    "    if halted:\n",
    "        print(f\"✅ Simulation halted at step {halt_step}\")\n",
    "    else:\n",
    "        print(f\"⏰ Simulation completed without halting ({len(evolution_history)-1} steps)\")\n",
    "    \n",
    "    # Show individual step visualizations\n",
    "    if show_step_by_step and len(evolution_history) <= 10:\n",
    "        print(\"\\n📊 Step-by-step tape states:\")\n",
    "        fig, axes = plt.subplots(min(len(evolution_history), 5), 1, figsize=(15, 2*min(len(evolution_history), 5)))\n",
    "        if len(evolution_history) == 1:\n",
    "            axes = [axes]\n",
    "        \n",
    "        for i, tape in enumerate(evolution_history[:5]):  # Show first 5 steps\n",
    "            ax = axes[i] if i < len(axes) else None\n",
    "            if ax is not None:\n",
    "                # Create simple bar visualization\n",
    "                colors = ['black', 'white', 'red', 'blue']\n",
    "                tape_colors = [colors[state] for state in tape[:30]]  # Show first 30 cells\n",
    "                \n",
    "                ax.bar(range(len(tape_colors)), [1]*len(tape_colors), color=tape_colors, \n",
    "                      edgecolor='gray', linewidth=0.5)\n",
    "                ax.set_title(f\"Step {i}\")\n",
    "                ax.set_xlim(-0.5, len(tape_colors)-0.5)\n",
    "                ax.set_ylim(0, 1)\n",
    "                ax.set_ylabel('State')\n",
    "                \n",
    "                # Add annotations\n",
    "                ax.axvline(prog_len-0.5, color='green', alpha=0.7, linestyle='--', label='Prog End')\n",
    "                ax.axvline(separator_pos-0.5, color='orange', alpha=0.7, linestyle='--', label='Sep End')\n",
    "                ax.axvline(beacon_pos, color='purple', alpha=0.7, linestyle='-', linewidth=2, label='Beacon')\n",
    "                \n",
    "                if i == 0:\n",
    "                    ax.legend(bbox_to_anchor=(1.05, 1), loc='upper left')\n",
    "        \n",
    "        plt.tight_layout()\n",
    "        plt.show()\n",
    "    \n",
    "    # Create 2D space-time visualization\n",
    "    print(\"\\n🎨 2D Space-Time Evolution Map:\")\n",
    "    \n",
    "    # Apply zoom if specified\n",
    "    display_range = zoom_range if zoom_range else (0, min(50, len(initial_tape)))\n",
    "    \n",
    "    fig = prog_viz.render(\n",
    "        evolution_history,\n",
    "        title=f\"CA Evolution: Programme={programme}, Input={input_val}\",\n",
    "        prog_len=prog_len,\n",
    "        input_val=input_val,\n",
    "        zoom_range=display_range,\n",
    "        show_annotations=True,\n",
    "        figsize=(15, 8)\n",
    "    )\n",
    "    \n",
    "    plt.show()\n",
    "    \n",
    "    # Decode final output\n",
    "    final_tape = evolution_history[-1]\n",
    "    decoded_output = encoder.decode(final_tape, prog_len)\n",
    "    expected_output = input_val * 2  # For doubling task\n",
    "    \n",
    "    print(f\"\\n🎯 Results:\")\n",
    "    print(f\"   Input: {input_val}\")\n",
    "    print(f\"   Decoded output: {decoded_output}\")\n",
    "    print(f\"   Expected (2×input): {expected_output}\")\n",
    "    print(f\"   Correct: {'✅' if decoded_output == expected_output else '❌'}\")\n",
    "    \n",
    "    return evolution_history, decoded_output\n"
   ]
  },
  {
   "cell_type": "code",
   "execution_count": 27,
   "id": "c96aa76a",
   "metadata": {},
   "outputs": [
    {
     "name": "stdout",
     "output_type": "stream",
     "text": [
      "🔬 CA Evolution Debugger\n",
      "==================================================\n",
      "📝 Programme: [1 0 2 0 1 0 0 0 0 0]\n",
      "📥 Input: [10]\n",
      "🎯 Rule table (first 10): [0 1 0 0 0 2 2 3 2 2]...\n",
      "⏱️  Max steps: 20\n",
      "🛑 Halt threshold: 0.5\n",
      "\n",
      "🎬 Initial tape (first 20 cells): [1 0 2 0 1 0 0 0 0 0 3 3 0 0 0 0 0 0 0 0]\n",
      "📍 Programme: [0:10], Separator: [10:12], Beacon: [23]\n",
      "\n",
      "🚀 Starting simulation...\n",
      "Step  1: Live= 7, Blue= 3, Fraction=0.429\n",
      "Step  2: Live= 8, Blue= 3, Fraction=0.375\n",
      "Step  3: Live= 6, Blue= 4, Fraction=0.667 🛑 HALTED!\n",
      "\n",
      "✅ Simulation halted at step 3\n",
      "\n",
      "📊 Step-by-step tape states:\n"
     ]
    },
    {
     "data": {
      "image/png": "[encoded data removed]",
      "text/plain": [
       "<Figure size 1500x800 with 4 Axes>"
      ]
     },
     "metadata": {},
     "output_type": "display_data"
    },
    {
     "name": "stdout",
     "output_type": "stream",
     "text": [
      "\n",
      "🎨 2D Space-Time Evolution Map:\n"
     ]
    },
    {
     "data": {
      "image/png": "[encoded data removed]",
      "text/plain": [
       "<Figure size 1500x800 with 2 Axes>"
      ]
     },
     "metadata": {},
     "output_type": "display_data"
    },
    {
     "name": "stdout",
     "output_type": "stream",
     "text": [
      "\n",
      "🎯 Results:\n",
      "   Input: [10]\n",
      "   Decoded output: 10\n",
      "   Expected (2×input): [20]\n",
      "   Correct: ❌\n"
     ]
    }
   ],
   "source": [
    "\n",
    "batch_idx = 1\n",
    "# 3. Run the cell to see the visualization\n",
    "history, output = debug_single_genome_evolution(\n",
    "    programme=progs[batch_idx],\n",
    "    input_val=inputs[batch_idx], \n",
    "    rule_table=rules[batch_idx],\n",
    "    max_steps=20,\n",
    "    zoom_range=(0, 30)  # Focus on first 30 cells\n",
    ")"
   ]
  },
  {
   "cell_type": "code",
   "execution_count": 28,
   "id": "c5e52535",
   "metadata": {},
   "outputs": [
    {
     "name": "stdout",
     "output_type": "stream",
     "text": [
      "Starting training for 300 generations...\n",
      "Population size: 500\n",
      "Checkpointing every 50 generations to checkpoints/\n"
     ]
    },
    {
     "data": {
      "application/vnd.jupyter.widget-view+json": {
       "model_id": "a05362c725df444090b1dca77b7b04d1",
       "version_major": 2,
       "version_minor": 0
      },
      "text/plain": [
       "Training:   0%|          | 0/300 [00:00<?, ?gen/s]"
      ]
     },
     "metadata": {},
     "output_type": "display_data"
    },
    {
     "name": "stdout",
     "output_type": "stream",
     "text": [
      "Gen    0: Best=0.9831, Mean=0.7248±0.1761, Time=0.0s\n",
      "\n",
      "📊 DETAILED TELEMETRY - Generation 0\n",
      "==================================================\n",
      "Fitness: Best=0.983051, Mean=0.724814, Std=0.176121\n",
      "Performance: 0.00 gen/sec, Improvement=0.000000/gen\n",
      "Accuracy: 0.00% of outputs match targets\n",
      "==================================================\n",
      "\n",
      "Gen   10: Best=0.9831, Mean=0.7316±0.1644, Time=4.6s\n",
      "Gen   20: Best=0.9831, Mean=0.7305±0.1630, Time=8.6s\n",
      "Gen   30: Best=0.9831, Mean=0.7257±0.1770, Time=12.2s\n",
      "\n",
      "📊 DETAILED TELEMETRY - Generation 30\n",
      "==================================================\n",
      "Fitness: Best=0.983051, Mean=0.725729, Std=0.176955\n",
      "Performance: 2.46 gen/sec, Improvement=0.000000/gen\n",
      "Accuracy: 0.00% of outputs match targets\n",
      "==================================================\n",
      "\n",
      "Gen   40: Best=1.0000, Mean=0.7290±0.1660, Time=13.7s\n",
      "Gen   50: Best=0.9831, Mean=0.7311±0.1657, Time=16.1s\n",
      "💾 Checkpoint saved: checkpoints/checkpoint_gen_50.pkl\n",
      "🔍 DEBUG: Saved checkpoint at generation 50\n",
      "Gen   60: Best=0.9831, Mean=0.7274±0.1722, Time=17.5s\n",
      "\n",
      "📊 DETAILED TELEMETRY - Generation 60\n",
      "==================================================\n",
      "Fitness: Best=0.983051, Mean=0.727390, Std=0.172233\n",
      "Performance: 3.42 gen/sec, Improvement=0.000000/gen\n",
      "Accuracy: 0.00% of outputs match targets\n",
      "⚠️  Warning: Population may have converged (50+ generations without improvement)\n",
      "==================================================\n",
      "\n",
      "Gen   70: Best=0.9831, Mean=0.7234±0.1776, Time=19.1s\n",
      "Gen   80: Best=0.9831, Mean=0.7257±0.1704, Time=23.5s\n",
      "Gen   90: Best=0.9831, Mean=0.7258±0.1747, Time=26.6s\n",
      "\n",
      "📊 DETAILED TELEMETRY - Generation 90\n",
      "==================================================\n",
      "Fitness: Best=0.983051, Mean=0.725831, Std=0.174740\n",
      "Performance: 3.38 gen/sec, Improvement=0.000000/gen\n",
      "Accuracy: 0.00% of outputs match targets\n",
      "⚠️  Warning: Population may have converged (50+ generations without improvement)\n",
      "==================================================\n",
      "\n",
      "Gen  100: Best=0.9831, Mean=0.7225±0.1839, Time=31.2s\n",
      "💾 Checkpoint saved: checkpoints/checkpoint_gen_100.pkl\n",
      "🔍 DEBUG: Saved checkpoint at generation 100\n",
      "Gen  110: Best=1.0000, Mean=0.7245±0.1782, Time=34.3s\n",
      "Gen  120: Best=0.9831, Mean=0.7308±0.1644, Time=38.3s\n",
      "\n",
      "📊 DETAILED TELEMETRY - Generation 120\n",
      "==================================================\n",
      "Fitness: Best=0.983051, Mean=0.730847, Std=0.164417\n",
      "Performance: 3.14 gen/sec, Improvement=0.000000/gen\n",
      "Accuracy: 0.00% of outputs match targets\n",
      "⚠️  Warning: Population may have converged (50+ generations without improvement)\n",
      "==================================================\n",
      "\n",
      "Gen  130: Best=0.9828, Mean=0.7311±0.1613, Time=40.1s\n",
      "Gen  140: Best=0.9831, Mean=0.7231±0.1808, Time=42.3s\n",
      "Gen  150: Best=1.0000, Mean=0.7269±0.1719, Time=43.8s\n",
      "\n",
      "📊 DETAILED TELEMETRY - Generation 150\n",
      "==================================================\n",
      "Fitness: Best=1.000000, Mean=0.726915, Std=0.171938\n",
      "Performance: 3.42 gen/sec, Improvement=0.000113/gen\n",
      "Accuracy: 0.00% of outputs match targets\n",
      "⚠️  Warning: Population may have converged (50+ generations without improvement)\n",
      "==================================================\n",
      "\n",
      "💾 Checkpoint saved: checkpoints/checkpoint_gen_150.pkl\n",
      "🔍 DEBUG: Saved checkpoint at generation 150\n",
      "Gen  160: Best=0.9831, Mean=0.7228±0.1847, Time=46.8s\n",
      "Gen  170: Best=0.9828, Mean=0.7349±0.1527, Time=48.5s\n",
      "Gen  180: Best=1.0000, Mean=0.7292±0.1667, Time=50.9s\n",
      "\n",
      "📊 DETAILED TELEMETRY - Generation 180\n",
      "==================================================\n",
      "Fitness: Best=1.000000, Mean=0.729186, Std=0.166690\n",
      "Performance: 3.54 gen/sec, Improvement=0.000094/gen\n",
      "Accuracy: 0.00% of outputs match targets\n",
      "⚠️  Warning: Population may have converged (50+ generations without improvement)\n",
      "==================================================\n",
      "\n",
      "Gen  190: Best=0.9831, Mean=0.7315±0.1646, Time=53.3s\n",
      "Gen  200: Best=0.9831, Mean=0.7296±0.1700, Time=57.9s\n",
      "💾 Checkpoint saved: checkpoints/checkpoint_gen_200.pkl\n",
      "🔍 DEBUG: Saved checkpoint at generation 200\n",
      "Gen  210: Best=0.9831, Mean=0.7329±0.1628, Time=62.5s\n",
      "\n",
      "📊 DETAILED TELEMETRY - Generation 210\n",
      "==================================================\n",
      "Fitness: Best=0.983051, Mean=0.732881, Std=0.162838\n",
      "Performance: 3.36 gen/sec, Improvement=0.000000/gen\n",
      "Accuracy: 0.00% of outputs match targets\n",
      "⚠️  Warning: Population may have converged (50+ generations without improvement)\n",
      "==================================================\n",
      "\n",
      "Gen  220: Best=0.9831, Mean=0.7319±0.1645, Time=64.1s\n",
      "Gen  230: Best=0.9831, Mean=0.7305±0.1675, Time=67.2s\n",
      "Gen  240: Best=0.9828, Mean=0.7268±0.1690, Time=70.9s\n",
      "\n",
      "📊 DETAILED TELEMETRY - Generation 240\n",
      "==================================================\n",
      "Fitness: Best=0.982759, Mean=0.726828, Std=0.169000\n",
      "Performance: 3.38 gen/sec, Improvement=-0.000001/gen\n",
      "Accuracy: 0.00% of outputs match targets\n",
      "⚠️  Warning: Population may have converged (50+ generations without improvement)\n",
      "==================================================\n",
      "\n",
      "Gen  250: Best=0.9831, Mean=0.7249±0.1768, Time=72.6s\n",
      "💾 Checkpoint saved: checkpoints/checkpoint_gen_250.pkl\n",
      "🔍 DEBUG: Saved checkpoint at generation 250\n",
      "Gen  260: Best=1.0000, Mean=0.7191±0.1755, Time=75.1s\n",
      "Gen  270: Best=0.9828, Mean=0.7253±0.1706, Time=78.2s\n",
      "\n",
      "📊 DETAILED TELEMETRY - Generation 270\n",
      "==================================================\n",
      "Fitness: Best=0.982759, Mean=0.725276, Std=0.170578\n",
      "Performance: 3.45 gen/sec, Improvement=-0.000001/gen\n",
      "Accuracy: 0.00% of outputs match targets\n",
      "⚠️  Warning: Population may have converged (50+ generations without improvement)\n",
      "==================================================\n",
      "\n",
      "Gen  280: Best=0.9831, Mean=0.7203±0.1865, Time=81.3s\n",
      "Gen  290: Best=0.9831, Mean=0.7265±0.1741, Time=84.5s\n",
      "🔍 DEBUG: Training loop completed. Final gen = 299, requested generations = 300\n",
      "🔍 DEBUG: Saving final checkpoint. gen = 299, generations = 300\n",
      "💾 Checkpoint saved: checkpoints/final_checkpoint.pkl\n",
      "✅ Training completed! Best fitness: 0.9831\n"
     ]
    }
   ],
   "source": [
    "\n",
    "# This should now show a nice progress bar!\n",
    "result = trainer.fit(\n",
    "    inputs=inputs,  # Smaller input set for demo\n",
    "    targets=targets,\n",
    "    generations=N_GENERATIONS,           # Fewer generations for demo\n",
    "    use_tqdm=False,          # Don't add another tqdm (we already have one in monitor)\n",
    "    checkpoint_every=CHECK_EVERY,\n",
    "    early_stopping_threshold=None\n",
    ")\n",
    "\n",
    "print(f\"✅ Training completed! Best fitness: {result['best_fitness']:.4f}\")"
   ]
  },
  {
   "cell_type": "code",
   "execution_count": null,
   "id": "a52db512",
   "metadata": {},
   "outputs": [],
   "source": []
  },
  {
   "cell_type": "code",
   "execution_count": 29,
   "id": "fabdc71e",
   "metadata": {},
   "outputs": [],
   "source": [
    "population = trainer.optimizer.ask()"
   ]
  },
  {
   "cell_type": "code",
   "execution_count": null,
   "id": "7b41f400",
   "metadata": {},
   "outputs": [],
   "source": []
  },
  {
   "cell_type": "code",
   "execution_count": 52,
   "id": "e36043bf",
   "metadata": {},
   "outputs": [],
   "source": [
    "# Define test inputs and expected targets\n",
    "test_inputs = np.array([1, 2, 3, 4, 5, 10, 15, 20], dtype=np.int64)\n",
    "test_targets = 2 * test_inputs  # For doubling task\n",
    "\n",
    "\n",
    "best_genome = trainer.optimizer.best_genome()\n",
    "# Evaluate the best genome on test inputs\n",
    "outputs = trainer.evaluate_single_genome(best_genome, test_inputs)\n",
    "outputs = outputs.squeeze()\n"
   ]
  },
  {
   "cell_type": "code",
   "execution_count": 53,
   "id": "135ca092",
   "metadata": {},
   "outputs": [],
   "source": [
    "# Calculate accuracy\n",
    "accuracy = np.mean(outputs == test_targets) * 100.0"
   ]
  },
  {
   "cell_type": "code",
   "execution_count": 54,
   "id": "b455cde6",
   "metadata": {},
   "outputs": [
    {
     "name": "stdout",
     "output_type": "stream",
     "text": [
      "🧪 Testing best genome on 8 inputs:\n",
      "Accuracy: 0.00%\n",
      "\n",
      "Detailed results:\n",
      "Input | Expected | Actual | Correct\n",
      "----- | -------- | ------ | -------\n",
      "    1 |        2 |      1 | ✗\n",
      "    2 |        4 |      2 | ✗\n",
      "    3 |        6 |      3 | ✗\n",
      "    4 |        8 |      4 | ✗\n",
      "    5 |       10 |      5 | ✗\n",
      "   10 |       20 |     10 | ✗\n",
      "   15 |       30 |     15 | ✗\n",
      "   20 |       40 |     20 | ✗\n"
     ]
    }
   ],
   "source": [
    "# Print results\n",
    "print(f\"🧪 Testing best genome on {len(test_inputs)} inputs:\")\n",
    "print(f\"Accuracy: {accuracy:.2f}%\")\n",
    "print(\"\\nDetailed results:\")\n",
    "print(\"Input | Expected | Actual | Correct\")\n",
    "print(\"----- | -------- | ------ | -------\")\n",
    "for i, (inp, target, output) in enumerate(zip(test_inputs, test_targets, outputs)):\n",
    "    correct = \"✓\" if output == target else \"✗\"\n",
    "    print(f\"{inp:5d} | {target:8d} | {output:6d} | {correct}\")"
   ]
  },
  {
   "cell_type": "code",
   "execution_count": null,
   "id": "2bef615d",
   "metadata": {},
   "outputs": [
    {
     "name": "stdout",
     "output_type": "stream",
     "text": [
      "\n",
      "🔍 Detailed visualization for input 1:\n",
      "Decoded output: 1\n",
      "Expected output: 2\n"
     ]
    }
   ],
   "source": []
  },
  {
   "cell_type": "code",
   "execution_count": 44,
   "id": "ca3ecd42",
   "metadata": {},
   "outputs": [
    {
     "data": {
      "text/plain": [
       "array([ 2,  4,  6,  8, 10, 20, 30, 40])"
      ]
     },
     "execution_count": 44,
     "metadata": {},
     "output_type": "execute_result"
    }
   ],
   "source": [
    "test_targets"
   ]
  },
  {
   "cell_type": "code",
   "execution_count": null,
   "id": "f71233ed",
   "metadata": {},
   "outputs": [],
   "source": []
  }
 ],
 "metadata": {
  "kernelspec": {
   "display_name": ".venv",
   "language": "python",
   "name": "python3"
  },
  "language_info": {
   "codemirror_mode": {
    "name": "ipython",
    "version": 3
   },
   "file_extension": ".py",
   "mimetype": "text/x-python",
   "name": "python",
   "nbconvert_exporter": "python",
   "pygments_lexer": "ipython3",
   "version": "3.13.3"
  }
 },
 "nbformat": 4,
 "nbformat_minor": 5
}
