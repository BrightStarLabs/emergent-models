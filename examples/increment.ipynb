{
 "cells": [
  {
   "cell_type": "markdown",
   "id": "72bf550b",
   "metadata": {},
   "source": [
    "# Learning Increment Function"
   ]
  },
  {
   "cell_type": "markdown",
   "id": "b3b9a21f",
   "metadata": {},
   "source": [
    "Increment is the core primitive of arithmetics where you can derive addition, multiplication, and even exponentiation from it.\n",
    "\n",
    "The idea we want to test is if EM can learn the increment function fast. If it can, can we initialize the genes with the increment function and then learn doubling function much faster from it?"
   ]
  },
  {
   "cell_type": "code",
   "execution_count": 1,
   "id": "daf1c841",
   "metadata": {},
   "outputs": [],
   "source": [
    "from emergent_models.core.state import StateModel\n",
    "from emergent_models.core.space_model import Tape1D\n",
    "from emergent_models.encoders.em43 import Em43Encoder\n",
    "from emergent_models.simulation.simulator import Simulator\n",
    "from emergent_models.training import (AbsoluteDifferenceFitness, Trainer,\n",
    "                                      ComplexityRewardFitness,\n",
    "                    SparsityPenalizedFitness, GAOptimizer)\n",
    "from emergent_models.training import TqdmMonitor, DetailedMonitor, CombinedMonitor\n",
    "from tqdm.notebook import tqdm\n",
    "import numpy as np"
   ]
  },
  {
   "cell_type": "code",
   "execution_count": 2,
   "id": "f5adc205",
   "metadata": {},
   "outputs": [],
   "source": [
    "# Setup components\n",
    "\n",
    "state = StateModel([0,1,2,3])\n",
    "\n",
    "space = Tape1D(length=80, radius=1)\n",
    "\n",
    "encoder = Em43Encoder(state, space)\n",
    "\n",
    "sim = Simulator(state, space, max_steps=256, halt_thresh=0.5)\n",
    "\n",
    "fitness = AbsoluteDifferenceFitness(continuous=True)\n",
    "\n",
    "optim = GAOptimizer(pop_size=100, state=state, prog_len=10)\n"
   ]
  },
  {
   "cell_type": "code",
   "execution_count": 3,
   "id": "3d07e54a",
   "metadata": {},
   "outputs": [
    {
     "name": "stdout",
     "output_type": "stream",
     "text": [
      "🚀 Pre-allocated evaluation buffers: pop_size=100, table_size=64, prog_len=10\n"
     ]
    }
   ],
   "source": [
    "\n",
    "# Create trainer\n",
    "\n",
    "trainer = Trainer(encoder, sim, fitness, optim)\n"
   ]
  },
  {
   "cell_type": "code",
   "execution_count": 4,
   "id": "ea257df2",
   "metadata": {},
   "outputs": [],
   "source": [
    "\n",
    "# Train on increment task\n",
    "\n",
    "inputs = np.arange(1, 11)\n",
    "\n",
    "targets = inputs + 1\n"
   ]
  },
  {
   "cell_type": "code",
   "execution_count": 5,
   "id": "873197d1",
   "metadata": {},
   "outputs": [
    {
     "name": "stdout",
     "output_type": "stream",
     "text": [
      "Starting training for 100 generations...\n",
      "Population size: 100\n"
     ]
    },
    {
     "data": {
      "application/vnd.jupyter.widget-view+json": {
       "model_id": "930883603db24af69c4c2c7b02d9fa14",
       "version_major": 2,
       "version_minor": 0
      },
      "text/plain": [
       "Training:   0%|          | 0/100 [00:00<?, ?gen/s]"
      ]
     },
     "metadata": {},
     "output_type": "display_data"
    },
    {
     "name": "stdout",
     "output_type": "stream",
     "text": [
      "Gen    0: Best=1.0000, Mean=0.6834±0.3587\n",
      "Gen   10: Best=1.0000, Mean=0.9305±0.2188\n",
      "Gen   20: Best=1.0000, Mean=0.9557±0.1765\n",
      "Gen   30: Best=1.0000, Mean=0.9130±0.2432\n",
      "Gen   40: Best=1.0000, Mean=0.9080±0.2460\n",
      "Gen   50: Best=1.0000, Mean=0.9063±0.2543\n",
      "Gen   60: Best=1.0000, Mean=0.9655±0.1461\n",
      "Gen   70: Best=1.0000, Mean=0.9258±0.2229\n",
      "Gen   80: Best=1.0000, Mean=0.9367±0.1960\n",
      "Gen   90: Best=1.0000, Mean=0.9119±0.2448\n",
      "🔍 DEBUG: Training loop completed. Final gen = 99, requested generations = 100\n"
     ]
    }
   ],
   "source": [
    "\n",
    "results = trainer.fit(inputs, targets, generations=100)\n"
   ]
  },
  {
   "cell_type": "code",
   "execution_count": 6,
   "id": "ef8a70c9",
   "metadata": {},
   "outputs": [
    {
     "name": "stdout",
     "output_type": "stream",
     "text": [
      "Starting training for 50 generations...\n",
      "Population size: 100\n",
      "Checkpointing every 10 generations to checkpoints/\n",
      "Gen    0: Best=1.0000, Mean=0.9268±0.2204\n",
      "Gen   10: Best=1.0000, Mean=0.8858±0.2780\n",
      "💾 Checkpoint saved: checkpoints/checkpoint_gen_10.pkl\n",
      "🔍 DEBUG: Saved checkpoint at generation 10\n",
      "Gen   20: Best=1.0000, Mean=0.9372±0.1991\n",
      "💾 Checkpoint saved: checkpoints/checkpoint_gen_20.pkl\n",
      "🔍 DEBUG: Saved checkpoint at generation 20\n",
      "Gen   30: Best=1.0000, Mean=0.9325±0.2146\n",
      "💾 Checkpoint saved: checkpoints/checkpoint_gen_30.pkl\n",
      "🔍 DEBUG: Saved checkpoint at generation 30\n",
      "Gen   40: Best=1.0000, Mean=0.9183±0.2387\n",
      "💾 Checkpoint saved: checkpoints/checkpoint_gen_40.pkl\n",
      "🔍 DEBUG: Saved checkpoint at generation 40\n",
      "🔍 DEBUG: Training loop completed. Final gen = 49, requested generations = 50\n",
      "🔍 DEBUG: Saving final checkpoint. gen = 49, generations = 50\n",
      "💾 Checkpoint saved: checkpoints/final_checkpoint.pkl\n"
     ]
    }
   ],
   "source": [
    "\n",
    "# This should now show a nice progress bar!\n",
    "result = trainer.fit(\n",
    "    inputs=inputs,  # Smaller input set for demo\n",
    "    targets=targets,\n",
    "    generations=50,           # Fewer generations for demo\n",
    "    use_tqdm=False,          # Don't add another tqdm (we already have one in monitor)\n",
    "    checkpoint_every=10,\n",
    "    early_stopping_threshold=None\n",
    ")\n"
   ]
  },
  {
   "cell_type": "code",
   "execution_count": 7,
   "id": "434233d5",
   "metadata": {},
   "outputs": [],
   "source": [
    "# Define test inputs and expected targets\n",
    "test_inputs = np.array([1, 2, 3, 4, 5, 10, 15, 20], dtype=np.int64)\n",
    "test_targets = 1 + test_inputs  # For doubling task\n",
    "\n",
    "\n",
    "best_genome = trainer.optimizer.best_genome()\n",
    "# Evaluate the best genome on test inputs\n",
    "outputs = trainer.evaluate_single_genome(best_genome, test_inputs)\n",
    "outputs = outputs.squeeze()\n",
    "# Calculate accuracy\n",
    "accuracy = np.mean(outputs == test_targets) * 100.0"
   ]
  },
  {
   "cell_type": "code",
   "execution_count": 8,
   "id": "92ae30cf",
   "metadata": {},
   "outputs": [
    {
     "data": {
      "text/plain": [
       "np.float64(100.0)"
      ]
     },
     "execution_count": 8,
     "metadata": {},
     "output_type": "execute_result"
    }
   ],
   "source": [
    "accuracy"
   ]
  },
  {
   "cell_type": "code",
   "execution_count": 9,
   "id": "435532a1",
   "metadata": {},
   "outputs": [
    {
     "data": {
      "text/plain": [
       "array([ 2,  3,  4,  5,  6, 11, 16, 21], dtype=int32)"
      ]
     },
     "execution_count": 9,
     "metadata": {},
     "output_type": "execute_result"
    }
   ],
   "source": [
    "outputs"
   ]
  },
  {
   "cell_type": "code",
   "execution_count": 10,
   "id": "d1bc2d47",
   "metadata": {},
   "outputs": [],
   "source": [
    "from emergent_models.visualization import TapeVisualizer, ProgressionVisualizer\n",
    "from matplotlib import pyplot as plt"
   ]
  },
  {
   "cell_type": "code",
   "execution_count": 11,
   "id": "471320bd",
   "metadata": {},
   "outputs": [],
   "source": [
    "viz = TapeVisualizer(state, backend=\"matplotlib\")\n"
   ]
  },
  {
   "cell_type": "code",
   "execution_count": 25,
   "id": "ee1416ee",
   "metadata": {},
   "outputs": [],
   "source": [
    "from typing import Optional\n",
    "from emergent_models.visualization.progression import ProgressionVisualizer\n",
    "from emergent_models.visualization.tape import TapeVisualizer\n",
    "from emergent_models.rules.sanitization import _IMMUTABLE\n",
    "from matplotlib import pyplot as plt"
   ]
  },
  {
   "cell_type": "code",
   "execution_count": 41,
   "id": "58c1c7c7",
   "metadata": {},
   "outputs": [],
   "source": [
    "\n",
    "# Set up matplotlib for Jupyter\n",
    "%matplotlib inline\n",
    "plt.rcParams['figure.figsize'] = (12, 8)\n",
    "\n",
    "def debug_single_genome_evolution(programme: np.ndarray, \n",
    "                                 input_val: int,\n",
    "                                 rule_table: np.ndarray,\n",
    "                                 max_steps: int = 20,\n",
    "                                 halt_thresh: float = 0.5,\n",
    "                                 window_size: int = 50,\n",
    "                                 zoom_range: Optional[tuple] = None,\n",
    "                                 show_step_by_step: bool = True):\n",
    "    \"\"\"\n",
    "    Debug single genome CA evolution with step-by-step visualization.\n",
    "    \n",
    "    Parameters\n",
    "    ----------\n",
    "    programme : np.ndarray\n",
    "        Programme array (e.g., [1, 2, 1])\n",
    "    input_val : int\n",
    "        Input value to encode\n",
    "    rule_table : np.ndarray\n",
    "        64-element rule lookup table\n",
    "    max_steps : int, default=20\n",
    "        Maximum simulation steps\n",
    "    halt_thresh : float, default=0.5\n",
    "        Halting threshold (fraction of blue cells)\n",
    "    window_size : int, default=50\n",
    "        CA tape window size\n",
    "    zoom_range : tuple, optional\n",
    "        (start, end) positions to focus on\n",
    "    show_step_by_step : bool, default=True\n",
    "        Whether to show individual step visualizations\n",
    "    \"\"\"\n",
    "    \n",
    "    print(\"🔬 CA Evolution Debugger\")\n",
    "    print(\"=\" * 50)\n",
    "    \n",
    "    # state = StateModel([0,1,2,3], immutable=_IMMUTABLE)\n",
    "    # space = Tape1D(window_size, radius=1)\n",
    "    # encoder = Em43Encoder(state, space)\n",
    "    # simulator = Simulator(state=state, space=space, max_steps=max_steps, halt_thresh=halt_thresh)\n",
    "    \n",
    "    state = trainer.encoder.state\n",
    "    space = trainer.encoder.space\n",
    "    encoder = trainer.encoder\n",
    "    simulator = trainer.simulator\n",
    "\n",
    "    # Create visualizers\n",
    "    tape_viz = TapeVisualizer(state, backend=\"matplotlib\")\n",
    "    prog_viz = ProgressionVisualizer(state, backend=\"matplotlib\")\n",
    "    \n",
    "    print(f\"📝 Programme: {programme}\")\n",
    "    print(f\"📥 Input: {input_val}\")\n",
    "    print(f\"🎯 Rule table (first 10): {rule_table[:10]}...\")\n",
    "    print(f\"⏱️  Max steps: {max_steps}\")\n",
    "    print(f\"🛑 Halt threshold: {halt_thresh}\")\n",
    "    print()\n",
    "    \n",
    "    # Encode initial tape\n",
    "    initial_tape = encoder.encode(programme, input_val)[0]\n",
    "    print(f\"🎬 Initial tape (first 20 cells): {initial_tape[:20]}\")\n",
    "    \n",
    "    # Calculate expected positions\n",
    "    prog_len = len(programme)\n",
    "    separator_pos = prog_len + 2\n",
    "    beacon_pos = prog_len + 2 + input_val + 1\n",
    "    print(f\"📍 Programme: [0:{prog_len}], Separator: [{prog_len}:{separator_pos}], Beacon: {beacon_pos}\")\n",
    "    print()\n",
    "    \n",
    "    # Run step-by-step simulation\n",
    "    evolution_history = []\n",
    "    current_tape = initial_tape.copy()\n",
    "    evolution_history.append(current_tape.copy())\n",
    "    \n",
    "    halted = False\n",
    "    halt_step = None\n",
    "    \n",
    "    print(\"🚀 Starting simulation...\")\n",
    "    for step in range(max_steps):\n",
    "        # Apply one CA step\n",
    "        next_tape = simulator._step_kernel(current_tape, rule_table)\n",
    "        evolution_history.append(next_tape.copy())\n",
    "        \n",
    "        # Check halting condition\n",
    "        blue_count = np.count_nonzero(next_tape == 3)\n",
    "        live_count = np.count_nonzero(next_tape)\n",
    "        \n",
    "        if live_count > 0:\n",
    "            blue_fraction = blue_count / live_count\n",
    "            print(f\"Step {step+1:2d}: Live={live_count:2d}, Blue={blue_count:2d}, Fraction={blue_fraction:.3f}\", end=\"\")\n",
    "            \n",
    "            if blue_fraction >= halt_thresh:\n",
    "                print(\" 🛑 HALTED!\")\n",
    "                halted = True\n",
    "                halt_step = step + 1\n",
    "                break\n",
    "            else:\n",
    "                print()\n",
    "        else:\n",
    "            print(f\"Step {step+1:2d}: All cells dead ☠️\")\n",
    "            break\n",
    "        \n",
    "        current_tape = next_tape\n",
    "    \n",
    "    print()\n",
    "    if halted:\n",
    "        print(f\"✅ Simulation halted at step {halt_step}\")\n",
    "    else:\n",
    "        print(f\"⏰ Simulation completed without halting ({len(evolution_history)-1} steps)\")\n",
    "    \n",
    "    # Show individual step visualizations\n",
    "    if show_step_by_step and len(evolution_history) <= 10:\n",
    "        print(\"\\n📊 Step-by-step tape states:\")\n",
    "        fig, axes = plt.subplots(min(len(evolution_history), 5), 1, figsize=(15, 2*min(len(evolution_history), 5)))\n",
    "        if len(evolution_history) == 1:\n",
    "            axes = [axes]\n",
    "        \n",
    "        for i, tape in enumerate(evolution_history[:5]):  # Show first 5 steps\n",
    "            ax = axes[i] if i < len(axes) else None\n",
    "            if ax is not None:\n",
    "                # Create simple bar visualization\n",
    "                colors = ['black', 'white', 'red', 'blue']\n",
    "                tape_colors = [colors[state] for state in tape[:30]]  # Show first 30 cells\n",
    "                \n",
    "                ax.bar(range(len(tape_colors)), [1]*len(tape_colors), color=tape_colors, \n",
    "                      edgecolor='gray', linewidth=0.5)\n",
    "                ax.set_title(f\"Step {i}\")\n",
    "                ax.set_xlim(-0.5, len(tape_colors)-0.5)\n",
    "                ax.set_ylim(0, 1)\n",
    "                ax.set_ylabel('State')\n",
    "                \n",
    "                # Add annotations\n",
    "                ax.axvline(prog_len-0.5, color='green', alpha=0.7, linestyle='--', label='Prog End')\n",
    "                ax.axvline(separator_pos-0.5, color='orange', alpha=0.7, linestyle='--', label='Sep End')\n",
    "                ax.axvline(beacon_pos, color='purple', alpha=0.7, linestyle='-', linewidth=2, label='Beacon')\n",
    "                \n",
    "                if i == 0:\n",
    "                    ax.legend(bbox_to_anchor=(1.05, 1), loc='upper left')\n",
    "        \n",
    "        plt.tight_layout()\n",
    "        plt.show()\n",
    "    \n",
    "    # Create 2D space-time visualization\n",
    "    print(\"\\n🎨 2D Space-Time Evolution Map:\")\n",
    "    \n",
    "    # Apply zoom if specified\n",
    "    display_range = zoom_range if zoom_range else (0, min(50, len(initial_tape)))\n",
    "    \n",
    "    fig = prog_viz.render(\n",
    "        evolution_history,\n",
    "        title=f\"CA Evolution: Programme={programme}, Input={input_val}\",\n",
    "        prog_len=prog_len,\n",
    "        input_val=input_val,\n",
    "        zoom_range=display_range,\n",
    "        show_annotations=True,\n",
    "        figsize=(15, 8)\n",
    "    )\n",
    "    \n",
    "    plt.show()\n",
    "    \n",
    "    # Decode final output\n",
    "    final_tape = evolution_history[-1]\n",
    "    decoded_output = encoder.decode(final_tape[None, :], prog_len)\n",
    "    expected_output = input_val * 2  # For doubling task\n",
    "    \n",
    "    print(f\"\\n🎯 Results:\")\n",
    "    print(f\"   Input: {input_val}\")\n",
    "    print(f\"   Decoded output: {decoded_output}\")\n",
    "    print(f\"   Expected (2×input): {expected_output}\")\n",
    "    print(f\"   Correct: {'✅' if decoded_output == expected_output else '❌'}\")\n",
    "    \n",
    "    return evolution_history, decoded_output\n"
   ]
  },
  {
   "cell_type": "code",
   "execution_count": 42,
   "id": "b6bcb95d",
   "metadata": {},
   "outputs": [
    {
     "name": "stdout",
     "output_type": "stream",
     "text": [
      "🔬 CA Evolution Debugger\n",
      "==================================================\n",
      "📝 Programme: [1 1 0 2 2 0 0 0 0 0]\n",
      "📥 Input: [1]\n",
      "🎯 Rule table (first 10): [3 2 2 0 0 3 3 3 0 0]...\n",
      "⏱️  Max steps: 20\n",
      "🛑 Halt threshold: 0.5\n",
      "\n",
      "🎬 Initial tape (first 20 cells): [1 1 0 2 2 0 0 0 0 0 3 3 0 0 2 0 0 0 0 0]\n",
      "📍 Programme: [0:10], Separator: [10:12], Beacon: [14]\n",
      "\n",
      "🚀 Starting simulation...\n",
      "Step  1: Live=74, Blue=67, Fraction=0.905 🛑 HALTED!\n",
      "\n",
      "✅ Simulation halted at step 1\n",
      "\n",
      "📊 Step-by-step tape states:\n"
     ]
    },
    {
     "data": {
      "image/png": "[encoded data removed]",
      "text/plain": [
       "<Figure size 1500x400 with 2 Axes>"
      ]
     },
     "metadata": {},
     "output_type": "display_data"
    },
    {
     "name": "stdout",
     "output_type": "stream",
     "text": [
      "\n",
      "🎨 2D Space-Time Evolution Map:\n"
     ]
    },
    {
     "data": {
      "image/png": "[encoded data removed]",
      "text/plain": [
       "<Figure size 1500x800 with 2 Axes>"
      ]
     },
     "metadata": {},
     "output_type": "display_data"
    },
    {
     "name": "stdout",
     "output_type": "stream",
     "text": [
      "\n",
      "🎯 Results:\n",
      "   Input: [1]\n",
      "   Decoded output: [2]\n",
      "   Expected (2×input): [2]\n",
      "   Correct: ✅\n"
     ]
    }
   ],
   "source": [
    "population = trainer.optimizer.ask()\n",
    "# rules, progs = trainer._extract_population_data_fast(population)\n",
    "rules, progs = trainer._rule_buffer, trainer._prog_buffer\n",
    "population_idx = 1\n",
    "batch_idx = 0\n",
    "# 3. Run the cell to see the visualization\n",
    "history, output = debug_single_genome_evolution(\n",
    "    programme=progs[population_idx],\n",
    "    input_val=np.array([inputs[batch_idx]]),  # Wrap in numpy array\n",
    "    rule_table=rules[population_idx],\n",
    "    max_steps=20,\n",
    "    zoom_range=(0, 30)  # Focus on first 30 cells\n",
    ")"
   ]
  },
  {
   "cell_type": "code",
   "execution_count": 38,
   "id": "5b263e3e",
   "metadata": {},
   "outputs": [
    {
     "data": {
      "text/plain": [
       "dict_keys(['encoder', 'simulator', 'fitness_fn', 'optimizer', 'monitor', '_rule_buffer', '_prog_buffer', '_fitness_buffer', '_sparsity_buffer', '_last_decoded_outputs', 'history'])"
      ]
     },
     "execution_count": 38,
     "metadata": {},
     "output_type": "execute_result"
    }
   ],
   "source": [
    "trainer.__dict__.keys()"
   ]
  },
  {
   "cell_type": "code",
   "execution_count": 39,
   "id": "d5df7f4c",
   "metadata": {},
   "outputs": [
    {
     "data": {
      "text/plain": [
       "StateModel(symbols=[0, 1, 2, 3], n_states=4)"
      ]
     },
     "execution_count": 39,
     "metadata": {},
     "output_type": "execute_result"
    }
   ],
   "source": [
    "encoder.state"
   ]
  },
  {
   "cell_type": "code",
   "execution_count": null,
   "id": "52365293",
   "metadata": {},
   "outputs": [],
   "source": []
  }
 ],
 "metadata": {
  "kernelspec": {
   "display_name": "emergent-models-py3.13",
   "language": "python",
   "name": "python3"
  },
  "language_info": {
   "codemirror_mode": {
    "name": "ipython",
    "version": 3
   },
   "file_extension": ".py",
   "mimetype": "text/x-python",
   "name": "python",
   "nbconvert_exporter": "python",
   "pygments_lexer": "ipython3",
   "version": "3.13.3"
  }
 },
 "nbformat": 4,
 "nbformat_minor": 5
}
